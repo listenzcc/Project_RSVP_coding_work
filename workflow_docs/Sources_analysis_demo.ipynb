{
 "cells": [
  {
   "cell_type": "code",
   "execution_count": 1,
   "metadata": {},
   "outputs": [],
   "source": [
    "# Imports\n",
    "import mne\n",
    "from mayavi import mlab"
   ]
  },
  {
   "cell_type": "code",
   "execution_count": 2,
   "metadata": {},
   "outputs": [],
   "source": [
    "# Parameters\n",
    "subject = 'Subject_02'  # This subject name should consistance with FreeSurfer\n",
    "spacing = 'oct6'  # 4098 sources per hemisphere\n",
    "\n",
    "# Run 'mne watershed_bem -s [subject]' before continue."
   ]
  },
  {
   "cell_type": "code",
   "execution_count": 3,
   "metadata": {},
   "outputs": [
    {
     "name": "stdout",
     "output_type": "stream",
     "text": [
      "Setting up the source space with the following parameters:\n",
      "\n",
      "SUBJECTS_DIR = /nfs/diskstation/zccdata/freesurfer//subjects\n",
      "Subject      = Subject_02\n",
      "Surface      = white\n",
      "Octahedron subdivision grade 6\n",
      "\n",
      ">>> 1. Creating the source space...\n",
      "\n",
      "Doing the octahedral vertex picking...\n",
      "Loading /nfs/diskstation/zccdata/freesurfer//subjects/Subject_02/surf/lh.white...\n",
      "Mapping lh Subject_02 -> oct (6) ...\n",
      "    Triangle neighbors and vertex normals...\n",
      "Loading geometry from /nfs/diskstation/zccdata/freesurfer//subjects/Subject_02/surf/lh.sphere...\n",
      "Setting up the triangulation for the decimated surface...\n",
      "loaded lh.white 4098/166546 selected to source space (oct = 6)\n",
      "\n",
      "Loading /nfs/diskstation/zccdata/freesurfer//subjects/Subject_02/surf/rh.white...\n",
      "Mapping rh Subject_02 -> oct (6) ...\n",
      "    Triangle neighbors and vertex normals...\n",
      "Loading geometry from /nfs/diskstation/zccdata/freesurfer//subjects/Subject_02/surf/rh.sphere...\n",
      "Setting up the triangulation for the decimated surface...\n",
      "loaded rh.white 4098/166009 selected to source space (oct = 6)\n",
      "\n",
      "Calculating source space distances (limit=inf mm)...\n",
      "    Computing patch statistics...\n",
      "    Patch information added...\n",
      "    Computing patch statistics...\n",
      "    Patch information added...\n",
      "You are now one step closer to computing the gain matrix\n",
      "    Write a source space...\n",
      "    [done]\n",
      "    Write a source space...\n",
      "    [done]\n",
      "    2 source spaces written\n"
     ]
    }
   ],
   "source": [
    "# Source space\n",
    "src = mne.setup_source_space(subject, spacing=spacing)\n",
    "mne.write_source_spaces('%s-%s-src.fif' % (subject, spacing), src)"
   ]
  },
  {
   "cell_type": "code",
   "execution_count": 4,
   "metadata": {},
   "outputs": [
    {
     "name": "stdout",
     "output_type": "stream",
     "text": [
      "Creating the BEM geometry...\n",
      "Going from 5th to 4th subdivision of an icosahedron (n_tri: 20480 -> 5120)\n",
      "Going from 5th to 4th subdivision of an icosahedron (n_tri: 20480 -> 5120)\n",
      "Going from 5th to 4th subdivision of an icosahedron (n_tri: 20480 -> 5120)\n",
      "outer skin  CM is   1.33 -14.93  23.59 mm\n",
      "outer skull CM is   1.32 -14.81  23.08 mm\n",
      "inner skull CM is   1.43 -18.25  34.91 mm\n",
      "Checking that outer skull surface is inside outer skin  surface...\n",
      "Checking that inner skull surface is inside outer skull surface...\n",
      "Checking distance between outer skin  and outer skull surfaces...\n",
      "Minimum distance between the outer skin  and outer skull surfaces is approximately    0.0 mm\n",
      "Checking distance between outer skull and inner skull surfaces...\n",
      "Minimum distance between the outer skull and inner skull surfaces is approximately    0.0 mm\n",
      "Surfaces passed the basic topology checks.\n",
      "Complete.\n",
      "\n"
     ]
    }
   ],
   "source": [
    "# BEM surfaces\n",
    "model = mne.make_bem_model(subject)\n",
    "mne.write_bem_surfaces('%s-5120-5120-5120-bem.fif' % subject, model)"
   ]
  },
  {
   "cell_type": "code",
   "execution_count": 5,
   "metadata": {},
   "outputs": [
    {
     "name": "stdout",
     "output_type": "stream",
     "text": [
      "Approximation method : Linear collocation\n",
      "\n",
      "Three-layer model surfaces loaded.\n",
      "Computing the linear collocation solution...\n",
      "    Matrix coefficients...\n",
      "        outer skin  (2562) -> outer skin  (2562) ...\n",
      "        outer skin  (2562) -> outer skull (2562) ...\n",
      "        outer skin  (2562) -> inner skull (2562) ...\n",
      "        outer skull (2562) -> outer skin  (2562) ...\n",
      "        outer skull (2562) -> outer skull (2562) ...\n",
      "        outer skull (2562) -> inner skull (2562) ...\n",
      "        inner skull (2562) -> outer skin  (2562) ...\n",
      "        inner skull (2562) -> outer skull (2562) ...\n",
      "        inner skull (2562) -> inner skull (2562) ...\n",
      "    Inverting the coefficient matrix...\n",
      "IP approach required...\n",
      "    Matrix coefficients (homog)...\n",
      "        inner skull (2562) -> inner skull (2562) ...\n",
      "    Inverting the coefficient matrix (homog)...\n",
      "    Modify the original solution to incorporate IP approach...\n",
      "        Combining...\n",
      "        Scaling...\n",
      "Solution ready.\n",
      "BEM geometry computations complete.\n"
     ]
    }
   ],
   "source": [
    "# BEM solution\n",
    "bem_sol = mne.make_bem_solution(model)\n",
    "mne.write_bem_solution('%s-5120-5120-5120-bem-sol.fif' % subject, bem_sol)"
   ]
  }
 ],
 "metadata": {
  "kernelspec": {
   "display_name": "Python 3",
   "language": "python",
   "name": "python3"
  },
  "language_info": {
   "codemirror_mode": {
    "name": "ipython",
    "version": 3
   },
   "file_extension": ".py",
   "mimetype": "text/x-python",
   "name": "python",
   "nbconvert_exporter": "python",
   "pygments_lexer": "ipython3",
   "version": "3.7.4"
  }
 },
 "nbformat": 4,
 "nbformat_minor": 2
}